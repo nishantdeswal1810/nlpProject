{
  "cells": [
    {
      "cell_type": "markdown",
      "metadata": {
        "id": "k1Tuc76rfm8p"
      },
      "source": [
        "## Importing Important Libraries"
      ]
    },
    {
      "cell_type": "code",
      "execution_count": null,
      "metadata": {
        "id": "Jjkg6RUJfm8q"
      },
      "outputs": [],
      "source": [
        "import pandas as pd\n",
        "import numpy as np"
      ]
    },
    {
      "cell_type": "code",
      "execution_count": null,
      "metadata": {
        "id": "FtkDrN-dfm8r"
      },
      "outputs": [],
      "source": [
        "import zipfile"
      ]
    },
    {
      "cell_type": "code",
      "execution_count": null,
      "metadata": {
        "colab": {
          "base_uri": "https://localhost:8080/",
          "height": 504
        },
        "id": "MqqvEObifm8r",
        "outputId": "3cc02c28-a39e-4bcb-cdfa-9c475fcbd018"
      },
      "outputs": [
        {
          "output_type": "execute_result",
          "data": {
            "text/plain": [
              "              id affectedProduct  \\\n",
              "0  CVE-1999-0001           mitre   \n",
              "1  CVE-1999-0002           mitre   \n",
              "2  CVE-1999-0003           mitre   \n",
              "3  CVE-1999-0004           mitre   \n",
              "4  CVE-1999-0005           mitre   \n",
              "\n",
              "                                         description  cvssScore  \\\n",
              "0  ip_input.c in BSD-derived TCP/IP implementatio...        5.0   \n",
              "1  Buffer overflow in NFS mountd gives root acces...       10.0   \n",
              "2  Execute commands as root via buffer overflow i...       10.0   \n",
              "3  MIME buffer overflow in email clients, e.g. So...        5.0   \n",
              "4  Arbitrary command execution via IMAP buffer ov...       10.0   \n",
              "\n",
              "  availabilityImpact confidentialityImpact integrityImpact accessComplexity  \\\n",
              "0            PARTIAL                  NONE            NONE              LOW   \n",
              "1           COMPLETE              COMPLETE        COMPLETE              LOW   \n",
              "2           COMPLETE              COMPLETE        COMPLETE              LOW   \n",
              "3            PARTIAL                  NONE            NONE              LOW   \n",
              "4           COMPLETE              COMPLETE        COMPLETE              LOW   \n",
              "\n",
              "  authenticationRequired                                         references  \\\n",
              "0                   None  [http://www.openbsd.org/errata23.html#tcpfix, ...   \n",
              "1                   None  [http://www.securityfocus.com/bid/121, ftp://p...   \n",
              "2                   None  [ftp://patches.sgi.com/support/free/security/a...   \n",
              "3                   None  [https://docs.microsoft.com/en-us/security-upd...   \n",
              "4                   None  [http://sunsolve.sun.com/pub-cgi/retrieve.pl?d...   \n",
              "\n",
              "  publishedDate  \n",
              "0    1999-12-30  \n",
              "1    1998-10-12  \n",
              "2    1998-04-01  \n",
              "3    1997-12-16  \n",
              "4    1998-07-20  "
            ],
            "text/html": [
              "<div>\n",
              "<style scoped>\n",
              "    .dataframe tbody tr th:only-of-type {\n",
              "        vertical-align: middle;\n",
              "    }\n",
              "\n",
              "    .dataframe tbody tr th {\n",
              "        vertical-align: top;\n",
              "    }\n",
              "\n",
              "    .dataframe thead th {\n",
              "        text-align: right;\n",
              "    }\n",
              "</style>\n",
              "<table border=\"1\" class=\"dataframe\">\n",
              "  <thead>\n",
              "    <tr style=\"text-align: right;\">\n",
              "      <th></th>\n",
              "      <th>id</th>\n",
              "      <th>affectedProduct</th>\n",
              "      <th>description</th>\n",
              "      <th>cvssScore</th>\n",
              "      <th>availabilityImpact</th>\n",
              "      <th>confidentialityImpact</th>\n",
              "      <th>integrityImpact</th>\n",
              "      <th>accessComplexity</th>\n",
              "      <th>authenticationRequired</th>\n",
              "      <th>references</th>\n",
              "      <th>publishedDate</th>\n",
              "    </tr>\n",
              "  </thead>\n",
              "  <tbody>\n",
              "    <tr>\n",
              "      <th>0</th>\n",
              "      <td>CVE-1999-0001</td>\n",
              "      <td>mitre</td>\n",
              "      <td>ip_input.c in BSD-derived TCP/IP implementatio...</td>\n",
              "      <td>5.0</td>\n",
              "      <td>PARTIAL</td>\n",
              "      <td>NONE</td>\n",
              "      <td>NONE</td>\n",
              "      <td>LOW</td>\n",
              "      <td>None</td>\n",
              "      <td>[http://www.openbsd.org/errata23.html#tcpfix, ...</td>\n",
              "      <td>1999-12-30</td>\n",
              "    </tr>\n",
              "    <tr>\n",
              "      <th>1</th>\n",
              "      <td>CVE-1999-0002</td>\n",
              "      <td>mitre</td>\n",
              "      <td>Buffer overflow in NFS mountd gives root acces...</td>\n",
              "      <td>10.0</td>\n",
              "      <td>COMPLETE</td>\n",
              "      <td>COMPLETE</td>\n",
              "      <td>COMPLETE</td>\n",
              "      <td>LOW</td>\n",
              "      <td>None</td>\n",
              "      <td>[http://www.securityfocus.com/bid/121, ftp://p...</td>\n",
              "      <td>1998-10-12</td>\n",
              "    </tr>\n",
              "    <tr>\n",
              "      <th>2</th>\n",
              "      <td>CVE-1999-0003</td>\n",
              "      <td>mitre</td>\n",
              "      <td>Execute commands as root via buffer overflow i...</td>\n",
              "      <td>10.0</td>\n",
              "      <td>COMPLETE</td>\n",
              "      <td>COMPLETE</td>\n",
              "      <td>COMPLETE</td>\n",
              "      <td>LOW</td>\n",
              "      <td>None</td>\n",
              "      <td>[ftp://patches.sgi.com/support/free/security/a...</td>\n",
              "      <td>1998-04-01</td>\n",
              "    </tr>\n",
              "    <tr>\n",
              "      <th>3</th>\n",
              "      <td>CVE-1999-0004</td>\n",
              "      <td>mitre</td>\n",
              "      <td>MIME buffer overflow in email clients, e.g. So...</td>\n",
              "      <td>5.0</td>\n",
              "      <td>PARTIAL</td>\n",
              "      <td>NONE</td>\n",
              "      <td>NONE</td>\n",
              "      <td>LOW</td>\n",
              "      <td>None</td>\n",
              "      <td>[https://docs.microsoft.com/en-us/security-upd...</td>\n",
              "      <td>1997-12-16</td>\n",
              "    </tr>\n",
              "    <tr>\n",
              "      <th>4</th>\n",
              "      <td>CVE-1999-0005</td>\n",
              "      <td>mitre</td>\n",
              "      <td>Arbitrary command execution via IMAP buffer ov...</td>\n",
              "      <td>10.0</td>\n",
              "      <td>COMPLETE</td>\n",
              "      <td>COMPLETE</td>\n",
              "      <td>COMPLETE</td>\n",
              "      <td>LOW</td>\n",
              "      <td>None</td>\n",
              "      <td>[http://sunsolve.sun.com/pub-cgi/retrieve.pl?d...</td>\n",
              "      <td>1998-07-20</td>\n",
              "    </tr>\n",
              "  </tbody>\n",
              "</table>\n",
              "</div>"
            ]
          },
          "metadata": {},
          "execution_count": 3
        }
      ],
      "source": [
        "df = pd.read_json('C:/Users/ObelWork-1/initial_data.json')\n",
        "df.head()"
      ]
    },
    {
      "cell_type": "code",
      "execution_count": null,
      "metadata": {
        "colab": {
          "base_uri": "https://localhost:8080/"
        },
        "id": "qNjGNtP0fm8s",
        "outputId": "aba686b5-0b20-4e38-e165-422b375fa7a1"
      },
      "outputs": [
        {
          "output_type": "execute_result",
          "data": {
            "text/plain": [
              "id                        241485\n",
              "affectedProduct           241471\n",
              "description               241485\n",
              "cvssScore                 223827\n",
              "availabilityImpact        223827\n",
              "confidentialityImpact     223827\n",
              "integrityImpact           223827\n",
              "accessComplexity           72990\n",
              "authenticationRequired    150837\n",
              "references                241485\n",
              "publishedDate             241485\n",
              "dtype: int64"
            ]
          },
          "metadata": {},
          "execution_count": 4
        }
      ],
      "source": [
        "df.count()"
      ]
    },
    {
      "cell_type": "code",
      "execution_count": null,
      "metadata": {
        "colab": {
          "base_uri": "https://localhost:8080/",
          "height": 660
        },
        "id": "2WnATZi3fm8s",
        "outputId": "a8076118-d218-49a6-d77a-5832e6ac179f"
      },
      "outputs": [
        {
          "output_type": "execute_result",
          "data": {
            "text/plain": [
              "                id affectedProduct  \\\n",
              "19   CVE-1999-0020           mitre   \n",
              "109  CVE-1999-0110           mitre   \n",
              "186  CVE-1999-0187           mitre   \n",
              "281  CVE-1999-0282           mitre   \n",
              "334  CVE-1999-0335           mitre   \n",
              "\n",
              "                                           description  cvssScore  \\\n",
              "19   Rejected reason: DO NOT USE THIS CANDIDATE NUM...        NaN   \n",
              "109  Rejected reason: DO NOT USE THIS CANDIDATE NUM...        NaN   \n",
              "186  Rejected reason: DO NOT USE THIS CANDIDATE NUM...        NaN   \n",
              "281  Rejected reason: DO NOT USE THIS CANDIDATE NUM...        NaN   \n",
              "334  Rejected reason: DO NOT USE THIS CANDIDATE NUM...        NaN   \n",
              "\n",
              "    availabilityImpact confidentialityImpact integrityImpact accessComplexity  \\\n",
              "19                None                  None            None             None   \n",
              "109               None                  None            None             None   \n",
              "186               None                  None            None             None   \n",
              "281               None                  None            None             None   \n",
              "334               None                  None            None             None   \n",
              "\n",
              "    authenticationRequired references publishedDate  \n",
              "19                    None         []    1999-01-01  \n",
              "109                   None         []    1999-01-01  \n",
              "186                   None         []    1999-01-01  \n",
              "281                   None         []    1997-09-23  \n",
              "334                   None         []    1996-08-01  "
            ],
            "text/html": [
              "<div>\n",
              "<style scoped>\n",
              "    .dataframe tbody tr th:only-of-type {\n",
              "        vertical-align: middle;\n",
              "    }\n",
              "\n",
              "    .dataframe tbody tr th {\n",
              "        vertical-align: top;\n",
              "    }\n",
              "\n",
              "    .dataframe thead th {\n",
              "        text-align: right;\n",
              "    }\n",
              "</style>\n",
              "<table border=\"1\" class=\"dataframe\">\n",
              "  <thead>\n",
              "    <tr style=\"text-align: right;\">\n",
              "      <th></th>\n",
              "      <th>id</th>\n",
              "      <th>affectedProduct</th>\n",
              "      <th>description</th>\n",
              "      <th>cvssScore</th>\n",
              "      <th>availabilityImpact</th>\n",
              "      <th>confidentialityImpact</th>\n",
              "      <th>integrityImpact</th>\n",
              "      <th>accessComplexity</th>\n",
              "      <th>authenticationRequired</th>\n",
              "      <th>references</th>\n",
              "      <th>publishedDate</th>\n",
              "    </tr>\n",
              "  </thead>\n",
              "  <tbody>\n",
              "    <tr>\n",
              "      <th>19</th>\n",
              "      <td>CVE-1999-0020</td>\n",
              "      <td>mitre</td>\n",
              "      <td>Rejected reason: DO NOT USE THIS CANDIDATE NUM...</td>\n",
              "      <td>NaN</td>\n",
              "      <td>None</td>\n",
              "      <td>None</td>\n",
              "      <td>None</td>\n",
              "      <td>None</td>\n",
              "      <td>None</td>\n",
              "      <td>[]</td>\n",
              "      <td>1999-01-01</td>\n",
              "    </tr>\n",
              "    <tr>\n",
              "      <th>109</th>\n",
              "      <td>CVE-1999-0110</td>\n",
              "      <td>mitre</td>\n",
              "      <td>Rejected reason: DO NOT USE THIS CANDIDATE NUM...</td>\n",
              "      <td>NaN</td>\n",
              "      <td>None</td>\n",
              "      <td>None</td>\n",
              "      <td>None</td>\n",
              "      <td>None</td>\n",
              "      <td>None</td>\n",
              "      <td>[]</td>\n",
              "      <td>1999-01-01</td>\n",
              "    </tr>\n",
              "    <tr>\n",
              "      <th>186</th>\n",
              "      <td>CVE-1999-0187</td>\n",
              "      <td>mitre</td>\n",
              "      <td>Rejected reason: DO NOT USE THIS CANDIDATE NUM...</td>\n",
              "      <td>NaN</td>\n",
              "      <td>None</td>\n",
              "      <td>None</td>\n",
              "      <td>None</td>\n",
              "      <td>None</td>\n",
              "      <td>None</td>\n",
              "      <td>[]</td>\n",
              "      <td>1999-01-01</td>\n",
              "    </tr>\n",
              "    <tr>\n",
              "      <th>281</th>\n",
              "      <td>CVE-1999-0282</td>\n",
              "      <td>mitre</td>\n",
              "      <td>Rejected reason: DO NOT USE THIS CANDIDATE NUM...</td>\n",
              "      <td>NaN</td>\n",
              "      <td>None</td>\n",
              "      <td>None</td>\n",
              "      <td>None</td>\n",
              "      <td>None</td>\n",
              "      <td>None</td>\n",
              "      <td>[]</td>\n",
              "      <td>1997-09-23</td>\n",
              "    </tr>\n",
              "    <tr>\n",
              "      <th>334</th>\n",
              "      <td>CVE-1999-0335</td>\n",
              "      <td>mitre</td>\n",
              "      <td>Rejected reason: DO NOT USE THIS CANDIDATE NUM...</td>\n",
              "      <td>NaN</td>\n",
              "      <td>None</td>\n",
              "      <td>None</td>\n",
              "      <td>None</td>\n",
              "      <td>None</td>\n",
              "      <td>None</td>\n",
              "      <td>[]</td>\n",
              "      <td>1996-08-01</td>\n",
              "    </tr>\n",
              "  </tbody>\n",
              "</table>\n",
              "</div>"
            ]
          },
          "metadata": {},
          "execution_count": 5
        }
      ],
      "source": [
        "# Here I am checking some CVE ID where availabilityImpact is null.\n",
        "df_test = df[df['availabilityImpact'].isnull()]\n",
        "df_test.head()"
      ]
    },
    {
      "cell_type": "markdown",
      "metadata": {
        "id": "YAd-iTvOfm8s"
      },
      "source": [
        "Lets remove these entries, as data is already sufficient for analysis."
      ]
    },
    {
      "cell_type": "code",
      "execution_count": null,
      "metadata": {
        "id": "reMRDHRjfm8t"
      },
      "outputs": [],
      "source": [
        "df_null_removed = df[df['availabilityImpact'].notnull()]"
      ]
    },
    {
      "cell_type": "code",
      "execution_count": null,
      "metadata": {
        "colab": {
          "base_uri": "https://localhost:8080/",
          "height": 504
        },
        "id": "VHUNd9EJfm8t",
        "outputId": "93e8c647-7e62-402a-b49e-d50e885abcc0"
      },
      "outputs": [
        {
          "output_type": "execute_result",
          "data": {
            "text/plain": [
              "              id affectedProduct  \\\n",
              "0  CVE-1999-0001           mitre   \n",
              "1  CVE-1999-0002           mitre   \n",
              "2  CVE-1999-0003           mitre   \n",
              "3  CVE-1999-0004           mitre   \n",
              "4  CVE-1999-0005           mitre   \n",
              "\n",
              "                                         description  cvssScore  \\\n",
              "0  ip_input.c in BSD-derived TCP/IP implementatio...        5.0   \n",
              "1  Buffer overflow in NFS mountd gives root acces...       10.0   \n",
              "2  Execute commands as root via buffer overflow i...       10.0   \n",
              "3  MIME buffer overflow in email clients, e.g. So...        5.0   \n",
              "4  Arbitrary command execution via IMAP buffer ov...       10.0   \n",
              "\n",
              "  availabilityImpact confidentialityImpact integrityImpact accessComplexity  \\\n",
              "0            PARTIAL                  NONE            NONE              LOW   \n",
              "1           COMPLETE              COMPLETE        COMPLETE              LOW   \n",
              "2           COMPLETE              COMPLETE        COMPLETE              LOW   \n",
              "3            PARTIAL                  NONE            NONE              LOW   \n",
              "4           COMPLETE              COMPLETE        COMPLETE              LOW   \n",
              "\n",
              "  authenticationRequired                                         references  \\\n",
              "0                   None  [http://www.openbsd.org/errata23.html#tcpfix, ...   \n",
              "1                   None  [http://www.securityfocus.com/bid/121, ftp://p...   \n",
              "2                   None  [ftp://patches.sgi.com/support/free/security/a...   \n",
              "3                   None  [https://docs.microsoft.com/en-us/security-upd...   \n",
              "4                   None  [http://sunsolve.sun.com/pub-cgi/retrieve.pl?d...   \n",
              "\n",
              "  publishedDate  \n",
              "0    1999-12-30  \n",
              "1    1998-10-12  \n",
              "2    1998-04-01  \n",
              "3    1997-12-16  \n",
              "4    1998-07-20  "
            ],
            "text/html": [
              "<div>\n",
              "<style scoped>\n",
              "    .dataframe tbody tr th:only-of-type {\n",
              "        vertical-align: middle;\n",
              "    }\n",
              "\n",
              "    .dataframe tbody tr th {\n",
              "        vertical-align: top;\n",
              "    }\n",
              "\n",
              "    .dataframe thead th {\n",
              "        text-align: right;\n",
              "    }\n",
              "</style>\n",
              "<table border=\"1\" class=\"dataframe\">\n",
              "  <thead>\n",
              "    <tr style=\"text-align: right;\">\n",
              "      <th></th>\n",
              "      <th>id</th>\n",
              "      <th>affectedProduct</th>\n",
              "      <th>description</th>\n",
              "      <th>cvssScore</th>\n",
              "      <th>availabilityImpact</th>\n",
              "      <th>confidentialityImpact</th>\n",
              "      <th>integrityImpact</th>\n",
              "      <th>accessComplexity</th>\n",
              "      <th>authenticationRequired</th>\n",
              "      <th>references</th>\n",
              "      <th>publishedDate</th>\n",
              "    </tr>\n",
              "  </thead>\n",
              "  <tbody>\n",
              "    <tr>\n",
              "      <th>0</th>\n",
              "      <td>CVE-1999-0001</td>\n",
              "      <td>mitre</td>\n",
              "      <td>ip_input.c in BSD-derived TCP/IP implementatio...</td>\n",
              "      <td>5.0</td>\n",
              "      <td>PARTIAL</td>\n",
              "      <td>NONE</td>\n",
              "      <td>NONE</td>\n",
              "      <td>LOW</td>\n",
              "      <td>None</td>\n",
              "      <td>[http://www.openbsd.org/errata23.html#tcpfix, ...</td>\n",
              "      <td>1999-12-30</td>\n",
              "    </tr>\n",
              "    <tr>\n",
              "      <th>1</th>\n",
              "      <td>CVE-1999-0002</td>\n",
              "      <td>mitre</td>\n",
              "      <td>Buffer overflow in NFS mountd gives root acces...</td>\n",
              "      <td>10.0</td>\n",
              "      <td>COMPLETE</td>\n",
              "      <td>COMPLETE</td>\n",
              "      <td>COMPLETE</td>\n",
              "      <td>LOW</td>\n",
              "      <td>None</td>\n",
              "      <td>[http://www.securityfocus.com/bid/121, ftp://p...</td>\n",
              "      <td>1998-10-12</td>\n",
              "    </tr>\n",
              "    <tr>\n",
              "      <th>2</th>\n",
              "      <td>CVE-1999-0003</td>\n",
              "      <td>mitre</td>\n",
              "      <td>Execute commands as root via buffer overflow i...</td>\n",
              "      <td>10.0</td>\n",
              "      <td>COMPLETE</td>\n",
              "      <td>COMPLETE</td>\n",
              "      <td>COMPLETE</td>\n",
              "      <td>LOW</td>\n",
              "      <td>None</td>\n",
              "      <td>[ftp://patches.sgi.com/support/free/security/a...</td>\n",
              "      <td>1998-04-01</td>\n",
              "    </tr>\n",
              "    <tr>\n",
              "      <th>3</th>\n",
              "      <td>CVE-1999-0004</td>\n",
              "      <td>mitre</td>\n",
              "      <td>MIME buffer overflow in email clients, e.g. So...</td>\n",
              "      <td>5.0</td>\n",
              "      <td>PARTIAL</td>\n",
              "      <td>NONE</td>\n",
              "      <td>NONE</td>\n",
              "      <td>LOW</td>\n",
              "      <td>None</td>\n",
              "      <td>[https://docs.microsoft.com/en-us/security-upd...</td>\n",
              "      <td>1997-12-16</td>\n",
              "    </tr>\n",
              "    <tr>\n",
              "      <th>4</th>\n",
              "      <td>CVE-1999-0005</td>\n",
              "      <td>mitre</td>\n",
              "      <td>Arbitrary command execution via IMAP buffer ov...</td>\n",
              "      <td>10.0</td>\n",
              "      <td>COMPLETE</td>\n",
              "      <td>COMPLETE</td>\n",
              "      <td>COMPLETE</td>\n",
              "      <td>LOW</td>\n",
              "      <td>None</td>\n",
              "      <td>[http://sunsolve.sun.com/pub-cgi/retrieve.pl?d...</td>\n",
              "      <td>1998-07-20</td>\n",
              "    </tr>\n",
              "  </tbody>\n",
              "</table>\n",
              "</div>"
            ]
          },
          "metadata": {},
          "execution_count": 7
        }
      ],
      "source": [
        "df_null_removed.head()"
      ]
    },
    {
      "cell_type": "code",
      "execution_count": null,
      "metadata": {
        "colab": {
          "base_uri": "https://localhost:8080/"
        },
        "id": "5EiKKK_Nfm8t",
        "outputId": "aaf66673-d496-498a-d3fe-80a8a296dc1d"
      },
      "outputs": [
        {
          "output_type": "execute_result",
          "data": {
            "text/plain": [
              "id                        223827\n",
              "affectedProduct           223821\n",
              "description               223827\n",
              "cvssScore                 223827\n",
              "availabilityImpact        223827\n",
              "confidentialityImpact     223827\n",
              "integrityImpact           223827\n",
              "accessComplexity           72990\n",
              "authenticationRequired    150837\n",
              "references                223827\n",
              "publishedDate             223827\n",
              "dtype: int64"
            ]
          },
          "metadata": {},
          "execution_count": 8
        }
      ],
      "source": [
        "df_null_removed.count()"
      ]
    },
    {
      "cell_type": "markdown",
      "metadata": {
        "id": "5ykbkHn9fm8t"
      },
      "source": [
        "Checking where other values are null"
      ]
    },
    {
      "cell_type": "code",
      "execution_count": null,
      "metadata": {
        "colab": {
          "base_uri": "https://localhost:8080/",
          "height": 487
        },
        "id": "AGcm6YtBfm8t",
        "outputId": "9387b1ea-5260-49ad-b377-e77770ffff7f"
      },
      "outputs": [
        {
          "output_type": "execute_result",
          "data": {
            "text/plain": [
              "                    id affectedProduct  \\\n",
              "91552    CVE-2016-8661            None   \n",
              "103140   CVE-2017-2675            None   \n",
              "111563  CVE-2018-10470            None   \n",
              "131077  CVE-2019-13013            None   \n",
              "131078  CVE-2019-13014            None   \n",
              "\n",
              "                                              description  cvssScore  \\\n",
              "91552   Little Snitch version 3.0 through 3.6.1 suffer...        8.4   \n",
              "103140  Little Snitch version 3.0 through 3.7.3 suffer...        7.8   \n",
              "111563  Little Snitch versions 4.0 to 4.0.6 use the Se...        5.3   \n",
              "131077  Little Snitch versions 4.3.0 to 4.3.2 have a l...        5.5   \n",
              "131078  Little Snitch versions 4.4.0 fixes a vulnerabi...        5.5   \n",
              "\n",
              "       availabilityImpact confidentialityImpact integrityImpact  \\\n",
              "91552                HIGH                  HIGH            HIGH   \n",
              "103140               HIGH                  HIGH            HIGH   \n",
              "111563               NONE                  NONE             LOW   \n",
              "131077               NONE                  HIGH            NONE   \n",
              "131078               NONE                  HIGH            NONE   \n",
              "\n",
              "       accessComplexity authenticationRequired  \\\n",
              "91552              None                   NONE   \n",
              "103140             None                    LOW   \n",
              "111563             None                   NONE   \n",
              "131077             None                    LOW   \n",
              "131078             None                    LOW   \n",
              "\n",
              "                                               references publishedDate  \n",
              "91552   [http://www.securityfocus.com/bid/94352, https...    2016-11-15  \n",
              "103140  [https://www.obdev.at/products/littlesnitch/re...    2017-04-06  \n",
              "111563  [https://obdev.at/cve/2018-10470-8FRWkW4oH8.ht...    2018-06-12  \n",
              "131077  [https://obdev.at/cve/2019-13013-OSv2mEFD3z.html]    2019-08-23  \n",
              "131078  [https://obdev.at/cve/2019-13014-MzE24Ify4p.html]    2019-08-23  "
            ],
            "text/html": [
              "<div>\n",
              "<style scoped>\n",
              "    .dataframe tbody tr th:only-of-type {\n",
              "        vertical-align: middle;\n",
              "    }\n",
              "\n",
              "    .dataframe tbody tr th {\n",
              "        vertical-align: top;\n",
              "    }\n",
              "\n",
              "    .dataframe thead th {\n",
              "        text-align: right;\n",
              "    }\n",
              "</style>\n",
              "<table border=\"1\" class=\"dataframe\">\n",
              "  <thead>\n",
              "    <tr style=\"text-align: right;\">\n",
              "      <th></th>\n",
              "      <th>id</th>\n",
              "      <th>affectedProduct</th>\n",
              "      <th>description</th>\n",
              "      <th>cvssScore</th>\n",
              "      <th>availabilityImpact</th>\n",
              "      <th>confidentialityImpact</th>\n",
              "      <th>integrityImpact</th>\n",
              "      <th>accessComplexity</th>\n",
              "      <th>authenticationRequired</th>\n",
              "      <th>references</th>\n",
              "      <th>publishedDate</th>\n",
              "    </tr>\n",
              "  </thead>\n",
              "  <tbody>\n",
              "    <tr>\n",
              "      <th>91552</th>\n",
              "      <td>CVE-2016-8661</td>\n",
              "      <td>None</td>\n",
              "      <td>Little Snitch version 3.0 through 3.6.1 suffer...</td>\n",
              "      <td>8.4</td>\n",
              "      <td>HIGH</td>\n",
              "      <td>HIGH</td>\n",
              "      <td>HIGH</td>\n",
              "      <td>None</td>\n",
              "      <td>NONE</td>\n",
              "      <td>[http://www.securityfocus.com/bid/94352, https...</td>\n",
              "      <td>2016-11-15</td>\n",
              "    </tr>\n",
              "    <tr>\n",
              "      <th>103140</th>\n",
              "      <td>CVE-2017-2675</td>\n",
              "      <td>None</td>\n",
              "      <td>Little Snitch version 3.0 through 3.7.3 suffer...</td>\n",
              "      <td>7.8</td>\n",
              "      <td>HIGH</td>\n",
              "      <td>HIGH</td>\n",
              "      <td>HIGH</td>\n",
              "      <td>None</td>\n",
              "      <td>LOW</td>\n",
              "      <td>[https://www.obdev.at/products/littlesnitch/re...</td>\n",
              "      <td>2017-04-06</td>\n",
              "    </tr>\n",
              "    <tr>\n",
              "      <th>111563</th>\n",
              "      <td>CVE-2018-10470</td>\n",
              "      <td>None</td>\n",
              "      <td>Little Snitch versions 4.0 to 4.0.6 use the Se...</td>\n",
              "      <td>5.3</td>\n",
              "      <td>NONE</td>\n",
              "      <td>NONE</td>\n",
              "      <td>LOW</td>\n",
              "      <td>None</td>\n",
              "      <td>NONE</td>\n",
              "      <td>[https://obdev.at/cve/2018-10470-8FRWkW4oH8.ht...</td>\n",
              "      <td>2018-06-12</td>\n",
              "    </tr>\n",
              "    <tr>\n",
              "      <th>131077</th>\n",
              "      <td>CVE-2019-13013</td>\n",
              "      <td>None</td>\n",
              "      <td>Little Snitch versions 4.3.0 to 4.3.2 have a l...</td>\n",
              "      <td>5.5</td>\n",
              "      <td>NONE</td>\n",
              "      <td>HIGH</td>\n",
              "      <td>NONE</td>\n",
              "      <td>None</td>\n",
              "      <td>LOW</td>\n",
              "      <td>[https://obdev.at/cve/2019-13013-OSv2mEFD3z.html]</td>\n",
              "      <td>2019-08-23</td>\n",
              "    </tr>\n",
              "    <tr>\n",
              "      <th>131078</th>\n",
              "      <td>CVE-2019-13014</td>\n",
              "      <td>None</td>\n",
              "      <td>Little Snitch versions 4.4.0 fixes a vulnerabi...</td>\n",
              "      <td>5.5</td>\n",
              "      <td>NONE</td>\n",
              "      <td>HIGH</td>\n",
              "      <td>NONE</td>\n",
              "      <td>None</td>\n",
              "      <td>LOW</td>\n",
              "      <td>[https://obdev.at/cve/2019-13014-MzE24Ify4p.html]</td>\n",
              "      <td>2019-08-23</td>\n",
              "    </tr>\n",
              "  </tbody>\n",
              "</table>\n",
              "</div>"
            ]
          },
          "metadata": {},
          "execution_count": 9
        }
      ],
      "source": [
        "df_test2 = df_null_removed[df_null_removed['affectedProduct'].isnull()]\n",
        "df_test2.head()"
      ]
    },
    {
      "cell_type": "markdown",
      "metadata": {
        "id": "8gDWrMZvfm8u"
      },
      "source": [
        "We cans set these values to a string as Not Found"
      ]
    },
    {
      "cell_type": "code",
      "execution_count": null,
      "metadata": {
        "colab": {
          "base_uri": "https://localhost:8080/"
        },
        "id": "D1SzwIo2fm8u",
        "outputId": "f6d86a0c-dc38-428e-d25c-c40d60b19b81"
      },
      "outputs": [
        {
          "output_type": "stream",
          "name": "stderr",
          "text": [
            "C:\\Users\\ObelWork-1\\AppData\\Local\\Temp\\ipykernel_13708\\996598866.py:1: SettingWithCopyWarning: \n",
            "A value is trying to be set on a copy of a slice from a DataFrame.\n",
            "Try using .loc[row_indexer,col_indexer] = value instead\n",
            "\n",
            "See the caveats in the documentation: https://pandas.pydata.org/pandas-docs/stable/user_guide/indexing.html#returning-a-view-versus-a-copy\n",
            "  df_null_removed['affectedProduct'] = df_null_removed['affectedProduct'].fillna(\"NONE\")\n",
            "C:\\Users\\ObelWork-1\\AppData\\Local\\Temp\\ipykernel_13708\\996598866.py:2: SettingWithCopyWarning: \n",
            "A value is trying to be set on a copy of a slice from a DataFrame.\n",
            "Try using .loc[row_indexer,col_indexer] = value instead\n",
            "\n",
            "See the caveats in the documentation: https://pandas.pydata.org/pandas-docs/stable/user_guide/indexing.html#returning-a-view-versus-a-copy\n",
            "  df_null_removed['authenticationRequired'] = df_null_removed['authenticationRequired'].fillna(\"NONE\")\n",
            "C:\\Users\\ObelWork-1\\AppData\\Local\\Temp\\ipykernel_13708\\996598866.py:3: SettingWithCopyWarning: \n",
            "A value is trying to be set on a copy of a slice from a DataFrame.\n",
            "Try using .loc[row_indexer,col_indexer] = value instead\n",
            "\n",
            "See the caveats in the documentation: https://pandas.pydata.org/pandas-docs/stable/user_guide/indexing.html#returning-a-view-versus-a-copy\n",
            "  df_null_removed['accessComplexity'] = df_null_removed['accessComplexity'].fillna(\"NONE\")\n"
          ]
        }
      ],
      "source": [
        "df_null_removed['affectedProduct'] = df_null_removed['affectedProduct'].fillna(\"NONE\")\n",
        "df_null_removed['authenticationRequired'] = df_null_removed['authenticationRequired'].fillna(\"NONE\")\n",
        "df_null_removed['accessComplexity'] = df_null_removed['accessComplexity'].fillna(\"NONE\")"
      ]
    },
    {
      "cell_type": "code",
      "source": [
        "df_null_removed.count()"
      ],
      "metadata": {
        "colab": {
          "base_uri": "https://localhost:8080/"
        },
        "id": "K5qA78yCgmLj",
        "outputId": "697dda02-cb14-48a4-da00-2820d73c4add"
      },
      "execution_count": null,
      "outputs": [
        {
          "output_type": "execute_result",
          "data": {
            "text/plain": [
              "id                        223827\n",
              "affectedProduct           223827\n",
              "description               223827\n",
              "cvssScore                 223827\n",
              "availabilityImpact        223827\n",
              "confidentialityImpact     223827\n",
              "integrityImpact           223827\n",
              "accessComplexity          223827\n",
              "authenticationRequired    223827\n",
              "references                223827\n",
              "publishedDate             223827\n",
              "dtype: int64"
            ]
          },
          "metadata": {},
          "execution_count": 11
        }
      ]
    },
    {
      "cell_type": "code",
      "execution_count": null,
      "metadata": {
        "id": "oHcrizrhfm8u"
      },
      "outputs": [],
      "source": [
        "import json\n",
        "json_output = df_null_removed.to_dict(orient=\"records\")\n",
        "\n",
        "json_string = json.dumps(json_output, indent=4)"
      ]
    },
    {
      "cell_type": "code",
      "execution_count": null,
      "metadata": {
        "id": "mZgO1uIVfm8u"
      },
      "outputs": [],
      "source": [
        "with open(\"final_data.json\", \"w\") as file:\n",
        "    json.dump(json_output, file, indent=4)"
      ]
    }
  ],
  "metadata": {
    "kernelspec": {
      "display_name": "Python 3",
      "language": "python",
      "name": "python3"
    },
    "language_info": {
      "codemirror_mode": {
        "name": "ipython",
        "version": 3
      },
      "file_extension": ".py",
      "mimetype": "text/x-python",
      "name": "python",
      "nbconvert_exporter": "python",
      "pygments_lexer": "ipython3",
      "version": "3.10.14"
    },
    "colab": {
      "provenance": []
    }
  },
  "nbformat": 4,
  "nbformat_minor": 0
}