{
 "cells": [
  {
   "cell_type": "code",
   "execution_count": null,
   "metadata": {
    "id": "jmMSTGdZ8s9H"
   },
   "outputs": [],
   "source": [
    "import torch"
   ]
  },
  {
   "cell_type": "code",
   "execution_count": null,
   "metadata": {
    "id": "94am8FqF9C7e"
   },
   "outputs": [],
   "source": [
    "from transformers import BertTokenizer"
   ]
  },
  {
   "cell_type": "code",
   "execution_count": null,
   "metadata": {
    "id": "XxPKpm43-arf"
   },
   "outputs": [],
   "source": [
    "import json\n",
    "\n",
    "# Load JSON data\n",
    "with open('C:/Users/ObelWork-1/Downloads/data_for_vectordb.json', 'r') as file:\n",
    "    data = json.load(file)\n",
    "\n",
    "# Extract descriptions and CVE IDs\n",
    "descriptions = [item['description'] for item in data]\n",
    "cve_ids = [item['id'] for item in data]"
   ]
  },
  {
   "cell_type": "code",
   "execution_count": null,
   "metadata": {
    "id": "MlcKE3UF_eIO"
   },
   "outputs": [],
   "source": [
    "tokenizer = BertTokenizer.from_pretrained('bert-base-uncased')"
   ]
  },
  {
   "cell_type": "code",
   "execution_count": null,
   "metadata": {
    "id": "rRSx0skD_2w3"
   },
   "outputs": [],
   "source": [
    "encoded_inputs = tokenizer(descriptions, padding=True, truncation=True, return_tensors='pt')"
   ]
  },
  {
   "cell_type": "code",
   "execution_count": null,
   "metadata": {
    "id": "mV1U8VQSBs3w"
   },
   "outputs": [],
   "source": [
    "token_ids = encoded_inputs['input_ids']\n",
    "attention_masks = encoded_inputs['attention_mask']"
   ]
  },
  {
   "cell_type": "code",
   "execution_count": null,
   "metadata": {
    "id": "DB1cTEHMuOl9"
   },
   "outputs": [],
   "source": [
    "from transformers import AutoModel\n",
    "import torch\n",
    "\n",
    "model_name = \"sentence-transformers/all-MiniLM-L6-v2\"\n",
    "model = AutoModel.from_pretrained(model_name)"
   ]
  },
  {
   "cell_type": "code",
   "execution_count": null,
   "metadata": {
    "id": "FQz6OYoQudZd"
   },
   "outputs": [],
   "source": [
    "def embed_tokens(input_ids, attention_mask):\n",
    "    with torch.no_grad():\n",
    "        outputs = model(input_ids=input_ids, attention_mask=attention_mask)\n",
    "    # Use the [CLS] token representation for sentence-level embedding\n",
    "    embeddings = outputs.last_hidden_state[:, 0, :]  # Shape: [batch_size, hidden_dim]\n",
    "    return embeddings"
   ]
  },
  {
   "cell_type": "code",
   "execution_count": null,
   "metadata": {
    "colab": {
     "base_uri": "https://localhost:8080/"
    },
    "id": "YgYTH7gFufXG",
    "outputId": "25c41498-4c16-4cbf-e63c-97fed716c869"
   },
   "outputs": [
    {
     "name": "stderr",
     "output_type": "stream",
     "text": [
      "C:\\Users\\ObelWork-1\\AppData\\Local\\Temp\\ipykernel_15984\\3592697210.py:5: UserWarning: To copy construct from a tensor, it is recommended to use sourceTensor.clone().detach() or sourceTensor.clone().detach().requires_grad_(True), rather than torch.tensor(sourceTensor).\n",
      "  batch_input_ids = torch.tensor(token_ids[i:i+batch_size])  # [batch_size, seq_length]\n",
      "C:\\Users\\ObelWork-1\\AppData\\Local\\Temp\\ipykernel_15984\\3592697210.py:6: UserWarning: To copy construct from a tensor, it is recommended to use sourceTensor.clone().detach() or sourceTensor.clone().detach().requires_grad_(True), rather than torch.tensor(sourceTensor).\n",
      "  batch_attention_mask = torch.tensor(attention_masks[i:i+batch_size])  # [batch_size, seq_length]\n"
     ]
    }
   ],
   "source": [
    "batch_size = 1024  # Adjust if necessary\n",
    "all_embeddings = []\n",
    "\n",
    "for i in range(0, len(token_ids), batch_size):\n",
    "    batch_input_ids = torch.tensor(token_ids[i:i+batch_size])  # [batch_size, seq_length]\n",
    "    batch_attention_mask = torch.tensor(attention_masks[i:i+batch_size])  # [batch_size, seq_length]\n",
    "\n",
    "    batch_embeddings = embed_tokens(batch_input_ids, batch_attention_mask)\n",
    "    all_embeddings.append(batch_embeddings)\n",
    "\n",
    "# Concatenate all embeddings into one tensor\n",
    "all_embeddings = torch.cat(all_embeddings, dim=0)\n"
   ]
  },
  {
   "cell_type": "code",
   "execution_count": null,
   "metadata": {
    "id": "du1YNZc0Bu9H"
   },
   "outputs": [],
   "source": [
    "torch.save(all_embeddings, \"embeddings.pt\")\n"
   ]
  }
 ],
 "metadata": {
  "colab": {
   "provenance": []
  },
  "kernelspec": {
   "display_name": "Python 3",
   "name": "python3"
  },
  "language_info": {
   "name": "python"
  }
 },
 "nbformat": 4,
 "nbformat_minor": 0
}
