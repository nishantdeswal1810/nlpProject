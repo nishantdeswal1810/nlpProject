{
  "cells": [
    {
      "cell_type": "markdown",
      "metadata": {
        "id": "L3b4MoEfnfay"
      },
      "source": [
        "## Data Fetching using NVD URL"
      ]
    },
    {
      "cell_type": "code",
      "source": [
        "import pandas as pd\n",
        "import requests\n",
        "import zipfile\n",
        "import os\n",
        "from pandas import json_normalize"
      ],
      "metadata": {
        "id": "BvmYh4LhDAP4"
      },
      "execution_count": null,
      "outputs": []
    },
    {
      "cell_type": "code",
      "source": [
        "def extract_cve_data(row):\n",
        "    # Extract vendor email and affected product\n",
        "    vendor_email = row['cve']['CVE_data_meta'].get('ASSIGNER')\n",
        "    affectedProduct = vendor_email.split('@')[-1].split('.')[0] if vendor_email and '@' in vendor_email else None\n",
        "\n",
        "    # Extract ID and description\n",
        "    id = row['cve']['CVE_data_meta'].get('ID')\n",
        "    description = None\n",
        "    for data in row['cve']['description'].get('description_data', []):\n",
        "        if data.get('lang') == 'en':\n",
        "            description = data.get('value')\n",
        "            break\n",
        "\n",
        "    # Initialize impact-related variables\n",
        "    cvssScore = None\n",
        "    availabilityImpact = None\n",
        "    confidentialityImpact = None\n",
        "    integrityImpact = None\n",
        "    accessComplexity = None\n",
        "    authenticationRequired = None\n",
        "\n",
        "    # Extract CVSS information\n",
        "    for version in row.get('impact', {}):\n",
        "        version_index = version[-1]\n",
        "        cvv_index = 'cvssV' + version_index\n",
        "        cvss_data = row['impact'][version].get(cvv_index, {})\n",
        "\n",
        "        if cvss_data.get('baseScore') is not None:\n",
        "            cvssScore = cvss_data.get('baseScore')\n",
        "            availabilityImpact = cvss_data.get('availabilityImpact')\n",
        "            confidentialityImpact = cvss_data.get('confidentialityImpact')\n",
        "            integrityImpact = cvss_data.get('integrityImpact')\n",
        "            accessComplexity = cvss_data.get('accessComplexity')\n",
        "            authenticationRequired = cvss_data.get('privilegesRequired')\n",
        "            break\n",
        "\n",
        "    # Extract references\n",
        "    references = [ref.get('url') for ref in row['cve'].get('references', {}).get('reference_data', [])]\n",
        "\n",
        "    # Extract published date\n",
        "    if row.get('publishedDate'):\n",
        "        publishedDate = row.get('publishedDate')[0:10]\n",
        "\n",
        "    # Return all extracted data\n",
        "    return {\n",
        "        'id': id,\n",
        "        'affectedProduct': affectedProduct,\n",
        "        'description': description,\n",
        "        'cvssScore': cvssScore,\n",
        "        'availabilityImpact': availabilityImpact,\n",
        "        'confidentialityImpact': confidentialityImpact,\n",
        "        'integrityImpact': integrityImpact,\n",
        "        'accessComplexity': accessComplexity,\n",
        "        'authenticationRequired': authenticationRequired,\n",
        "        'references': references,\n",
        "        'publishedDate': publishedDate\n",
        "    }\n"
      ],
      "metadata": {
        "id": "mlw_zw_lY0fi"
      },
      "execution_count": null,
      "outputs": []
    },
    {
      "cell_type": "code",
      "source": [
        "cve_data = []"
      ],
      "metadata": {
        "id": "m3Hflgsxb6_q"
      },
      "execution_count": null,
      "outputs": []
    },
    {
      "cell_type": "code",
      "execution_count": null,
      "metadata": {
        "id": "F4Q6ak0wLAtZ"
      },
      "outputs": [],
      "source": [
        "# Function to download and extract CVE data for a specific year\n",
        "def download_cve_data(year):\n",
        "    CVE_FEED = f'nvdcve-1.1-{year}.json'\n",
        "    CVE_URL = f'https://nvd.nist.gov/feeds/json/cve/1.1/{CVE_FEED}.zip'\n",
        "\n",
        "    # Download the CVE feed\n",
        "    response = requests.get(CVE_URL)\n",
        "\n",
        "    # Check if the download was successful\n",
        "    if response.status_code != 200:\n",
        "        print(f\"Failed to download data for year {year}. Status code: {response.status_code}\")\n",
        "        return pd.DataFrame()  # Return an empty DataFrame on failure\n",
        "\n",
        "    # Save the ZIP file locally\n",
        "    zip_file_path = f'{CVE_FEED}.zip'\n",
        "    with open(zip_file_path, 'wb') as f:\n",
        "        f.write(response.content)\n",
        "\n",
        "    # Validate that the downloaded file is indeed a ZIP file\n",
        "    try:\n",
        "        # Unzip the file\n",
        "        with zipfile.ZipFile(zip_file_path, 'r') as zip_ref:\n",
        "            zip_ref.extractall()  # Extract to current directory\n",
        "    except zipfile.BadZipFile:\n",
        "        print(f\"Downloaded file for year {year} is not a valid ZIP file.\")\n",
        "        os.remove(zip_file_path)  # Clean up\n",
        "        return pd.DataFrame()  # Return an empty DataFrame on failure\n",
        "\n",
        "    # Load the JSON data\n",
        "    cvejson = pd.read_json(CVE_FEED)\n",
        "    cve_all_raw = cvejson['CVE_Items']\n",
        "    for row in cve_all_raw:\n",
        "      cve_data.append(extract_cve_data(row))"
      ]
    },
    {
      "cell_type": "code",
      "source": [
        "for year in range(1999,2024):\n",
        "  download_cve_data(year)"
      ],
      "metadata": {
        "colab": {
          "base_uri": "https://localhost:8080/"
        },
        "id": "R7ecigzCcLPT",
        "outputId": "63e5b516-ef4d-49d5-9636-bccace627162"
      },
      "execution_count": null,
      "outputs": [
        {
          "output_type": "stream",
          "name": "stdout",
          "text": [
            "Failed to download data for year 1999. Status code: 404\n",
            "Failed to download data for year 2000. Status code: 404\n",
            "Failed to download data for year 2001. Status code: 404\n"
          ]
        }
      ]
    },
    {
      "cell_type": "code",
      "source": [
        "import json\n",
        "with open(\"initial_data.json\",\"w\") as f:\n",
        "    json.dump(cve_data, f, indent=4)"
      ],
      "metadata": {
        "id": "2cZjEGwVehLT"
      },
      "execution_count": null,
      "outputs": []
    }
  ],
  "metadata": {
    "accelerator": "GPU",
    "colab": {
      "gpuType": "T4",
      "provenance": []
    },
    "kernelspec": {
      "display_name": "Python 3",
      "name": "python3"
    },
    "language_info": {
      "name": "python"
    }
  },
  "nbformat": 4,
  "nbformat_minor": 0
}