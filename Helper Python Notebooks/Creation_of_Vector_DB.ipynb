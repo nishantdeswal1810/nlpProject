{
  "nbformat": 4,
  "nbformat_minor": 0,
  "metadata": {
    "colab": {
      "provenance": []
    },
    "kernelspec": {
      "name": "python3",
      "display_name": "Python 3"
    },
    "language_info": {
      "name": "python"
    }
  },
  "cells": [
    {
      "cell_type": "code",
      "source": [
        "import numpy as np\n",
        "import torch"
      ],
      "metadata": {
        "id": "qEeCRlXbL2ev"
      },
      "execution_count": null,
      "outputs": []
    },
    {
      "cell_type": "code",
      "execution_count": null,
      "metadata": {
        "id": "-O2nk0WpLWuN"
      },
      "outputs": [],
      "source": [
        "from transformers import BertTokenizer, AutoModel"
      ]
    },
    {
      "cell_type": "code",
      "source": [
        "tokenizer = BertTokenizer.from_pretrained('bert-base-uncased')"
      ],
      "metadata": {
        "id": "6GQt1YdILj_A"
      },
      "execution_count": null,
      "outputs": []
    },
    {
      "cell_type": "code",
      "source": [
        "model_name = \"sentence-transformers/all-MiniLM-L6-v2\"\n",
        "model = AutoModel.from_pretrained(model_name)"
      ],
      "metadata": {
        "id": "PoMg9GWHLrjH"
      },
      "execution_count": null,
      "outputs": []
    },
    {
      "cell_type": "code",
      "source": [
        "def embed_tokens(input_ids, attention_mask):\n",
        "    with torch.no_grad():\n",
        "        outputs = model(input_ids=input_ids, attention_mask=attention_mask)\n",
        "    # Use the [CLS] token representation for sentence-level embedding\n",
        "    embeddings = outputs.last_hidden_state[:, 0, :]  # Shape: [batch_size, hidden_dim]\n",
        "    return embeddings"
      ],
      "metadata": {
        "id": "Bg3mrrt1LpXv"
      },
      "execution_count": null,
      "outputs": []
    },
    {
      "cell_type": "code",
      "source": [
        "all_embeddings = torch.load(\"embeddings.pt\")"
      ],
      "metadata": {
        "colab": {
          "base_uri": "https://localhost:8080/"
        },
        "id": "Qy9exQBPLvDn",
        "outputId": "108296f6-e4c6-415e-96e9-8350c8f30a57"
      },
      "execution_count": null,
      "outputs": [
        {
          "output_type": "stream",
          "name": "stderr",
          "text": [
            "C:\\Users\\ObelWork-1\\AppData\\Local\\Temp\\ipykernel_6284\\64800262.py:1: FutureWarning: You are using `torch.load` with `weights_only=False` (the current default value), which uses the default pickle module implicitly. It is possible to construct malicious pickle data which will execute arbitrary code during unpickling (See https://github.com/pytorch/pytorch/blob/main/SECURITY.md#untrusted-models for more details). In a future release, the default value for `weights_only` will be flipped to `True`. This limits the functions that could be executed during unpickling. Arbitrary objects will no longer be allowed to be loaded via this mode unless they are explicitly allowlisted by the user via `torch.serialization.add_safe_globals`. We recommend you start setting `weights_only=True` for any use case where you don't have full control of the loaded file. Please open an issue on GitHub for any issues related to this experimental feature.\n",
            "  all_embeddings = torch.load(\"embeddings.pt\")\n"
          ]
        }
      ]
    },
    {
      "cell_type": "code",
      "source": [
        "embeddings = all_embeddings.numpy()"
      ],
      "metadata": {
        "id": "di77RnhKLwzf"
      },
      "execution_count": null,
      "outputs": []
    },
    {
      "cell_type": "code",
      "source": [
        "import json\n",
        "\n",
        "# Load JSON data\n",
        "with open('C:/Users/ObelWork-1/Downloads/data_for_vectordb.json', 'r') as file:\n",
        "    data = json.load(file)\n",
        "\n",
        "\n",
        "cve_ids = [item['id'] for item in data]\n",
        "cve_ids = np.array(cve_ids)"
      ],
      "metadata": {
        "id": "5TW4yuUFchRJ"
      },
      "execution_count": null,
      "outputs": []
    },
    {
      "cell_type": "code",
      "source": [
        "from pinecone import Pinecone\n",
        "\n",
        "pc = Pinecone(api_key=\"2f5652db-c1bc-4529-a189-84e3602bf46c\")\n",
        "index = pc.Index(\"cveindex\")"
      ],
      "metadata": {
        "id": "RR7DQKH0MD3_"
      },
      "execution_count": null,
      "outputs": []
    },
    {
      "cell_type": "code",
      "source": [
        "for i, cve_id in enumerate(cve_ids):\n",
        "  if cve_id:\n",
        "    vector = [{\"id\":cve_ids[i],\"values\":embeddings[i].tolist()}]\n",
        "    index.upsert(vectors=vector, namespace= \"ns1\")`"
      ],
      "metadata": {
        "id": "d57QAPXJfNui"
      },
      "execution_count": null,
      "outputs": []
    },
    {
      "cell_type": "markdown",
      "source": [
        "## Testing"
      ],
      "metadata": {
        "id": "pKZpi43jxFHa"
      }
    },
    {
      "cell_type": "code",
      "source": [
        "query = \"An authenticated user may be able to misuse parameters to inject arbitrary operating system commands into mySCADA myPRO versions 8.25.0 and prior.\""
      ],
      "metadata": {
        "id": "MNhyAgML6gkr"
      },
      "execution_count": null,
      "outputs": []
    },
    {
      "cell_type": "code",
      "source": [
        "query_encoded_inputs = tokenizer(query, padding=True, truncation=True, return_tensors='pt')"
      ],
      "metadata": {
        "id": "eV2DmckB6vhF"
      },
      "execution_count": null,
      "outputs": []
    },
    {
      "cell_type": "code",
      "source": [
        "query_token_ids = query_encoded_inputs['input_ids']\n",
        "query_attention_masks = query_encoded_inputs['attention_mask']"
      ],
      "metadata": {
        "id": "k5eALT-m6-79"
      },
      "execution_count": null,
      "outputs": []
    },
    {
      "cell_type": "code",
      "source": [
        "query_embeddings = embed_tokens(query_token_ids, query_attention_masks)"
      ],
      "metadata": {
        "id": "af10D2Oa7O2s"
      },
      "execution_count": null,
      "outputs": []
    },
    {
      "cell_type": "code",
      "source": [
        "query_vector = query_embeddings.tolist()"
      ],
      "metadata": {
        "id": "QUJ7j2qm7WAt"
      },
      "execution_count": null,
      "outputs": []
    },
    {
      "cell_type": "code",
      "source": [
        "query_vector = query_vector[0]\n"
      ],
      "metadata": {
        "id": "0IwsRPZv7ZPx"
      },
      "execution_count": null,
      "outputs": []
    },
    {
      "cell_type": "code",
      "source": [
        "response = index.query(\n",
        "    namespace=\"ns1\",\n",
        "    vector=query_vector,\n",
        "    top_k=5,\n",
        "    include_values=True,\n",
        ")\n",
        "\n"
      ],
      "metadata": {
        "id": "ElXNZCRy7itp"
      },
      "execution_count": null,
      "outputs": []
    },
    {
      "cell_type": "code",
      "source": [
        "for res in response['matches']:\n",
        "  print(res['id'])"
      ],
      "metadata": {
        "colab": {
          "base_uri": "https://localhost:8080/"
        },
        "id": "irfz8VSy8LCH",
        "outputId": "9c4dd227-56ce-4f22-8934-acc9cd1f10ae"
      },
      "execution_count": null,
      "outputs": [
        {
          "output_type": "stream",
          "name": "stdout",
          "text": [
            "CVE-2022-0999\n",
            "CVE-2023-28384\n",
            "CVE-2023-28400\n",
            "CVE-2023-28716\n",
            "CVE-2023-29150\n"
          ]
        }
      ]
    },
    {
      "cell_type": "code",
      "source": [],
      "metadata": {
        "id": "XuK06X9k8LvC"
      },
      "execution_count": null,
      "outputs": []
    }
  ]
}